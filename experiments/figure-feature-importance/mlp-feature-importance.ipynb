{
 "cells": [
  {
   "cell_type": "code",
   "execution_count": 1,
   "id": "2f115790",
   "metadata": {},
   "outputs": [
    {
     "name": "stdout",
     "output_type": "stream",
     "text": [
      "pandas      : 1.4.4\n",
      "numpy       : 1.23.3\n",
      "scikit-learn: 1.1.2\n",
      "matplotlib  : 3.5.3\n",
      "mlxtend     : 0.21.0\n",
      "\n",
      "conda environment: hotspot\n",
      "\n"
     ]
    }
   ],
   "source": [
    "%load_ext watermark\n",
    "%watermark -p pandas,numpy,scikit-learn,matplotlib,mlxtend --conda "
   ]
  },
  {
   "cell_type": "code",
   "execution_count": 2,
   "id": "2e7c0ca7",
   "metadata": {},
   "outputs": [],
   "source": [
    "import pandas as pd\n",
    "import numpy as np"
   ]
  },
  {
   "cell_type": "markdown",
   "id": "eaa7d767",
   "metadata": {},
   "source": [
    "## Binarize"
   ]
  },
  {
   "cell_type": "code",
   "execution_count": 3,
   "id": "9e7efd26",
   "metadata": {},
   "outputs": [],
   "source": [
    "df_train = pd.read_csv('../dataset/TrainingDataset.csv')\n",
    "df_test = pd.read_csv('../dataset/TestDataset.csv')\n",
    "\n",
    "# 1 & 2 -> 1\n",
    "# 0 -> 0\n",
    "\n",
    "binarized = df_train['3-class'].values.copy()\n",
    "binarized[binarized == 2] = 1\n",
    "df_train['2-class-merged-v1'] = binarized.astype(int)\n",
    "\n",
    "binarized = df_test['3-class'].values.copy()\n",
    "binarized[binarized == 2] = 1\n",
    "df_test['2-class-merged-v1'] = binarized.astype(int)\n",
    "\n",
    "\n",
    "y_train = df_train['2-class-merged-v1'].values\n",
    "y_test = df_test['2-class-merged-v1'].values"
   ]
  },
  {
   "cell_type": "markdown",
   "id": "ee862677",
   "metadata": {},
   "source": [
    "## Use All Features"
   ]
  },
  {
   "cell_type": "code",
   "execution_count": 4,
   "id": "a5451a1f",
   "metadata": {},
   "outputs": [
    {
     "data": {
      "text/plain": [
       "array(['C', 'D', 'E', 'F', 'G', 'H', 'I', 'K', 'L', 'M', 'N', 'P', 'Q',\n",
       "       'R', 'S', 'T', 'V', 'W', 'Y'], dtype=object)"
      ]
     },
     "execution_count": 4,
     "metadata": {},
     "output_type": "execute_result"
    }
   ],
   "source": [
    "np.unique(df_train['residue'])"
   ]
  },
  {
   "cell_type": "code",
   "execution_count": 5,
   "id": "0b5d53c9",
   "metadata": {},
   "outputs": [],
   "source": [
    "# convert aa char to int\n",
    "codes = ['A', 'R', 'N', 'D', 'C', 'E', 'Q', 'G', 'H', \n",
    "         'I', 'L', 'K', 'M', 'F', 'P', 'S', 'T', 'W', 'Y', 'V']\n",
    "code_to_int = {c:i for i,c in enumerate(codes)}     \n",
    "df_train['residue'] = df_train['residue'].map(code_to_int)\n",
    "df_test['residue'] = df_test['residue'].map(code_to_int)"
   ]
  },
  {
   "cell_type": "code",
   "execution_count": 6,
   "id": "41f3215d",
   "metadata": {},
   "outputs": [
    {
     "data": {
      "text/plain": [
       "array(['-', 'H', 'S', 'T'], dtype=object)"
      ]
     },
     "execution_count": 6,
     "metadata": {},
     "output_type": "execute_result"
    }
   ],
   "source": [
    "np.unique(df_train['secondary structure'])"
   ]
  },
  {
   "cell_type": "code",
   "execution_count": 7,
   "id": "4a81372b",
   "metadata": {},
   "outputs": [],
   "source": [
    "# convert secondary structure char to int\n",
    "codes = ['H', 'S', 'T', '-']\n",
    "code_to_int = {c:i for i,c in enumerate(codes)}     \n",
    "df_train['secondary structure'] = df_train['secondary structure'].map(code_to_int)\n",
    "df_test['secondary structure'] = df_test['secondary structure'].map(code_to_int)\n",
    "\n",
    "feature_list = ['avg bond number', 'Hbond', 'residue',\n",
    "                'Hphob', 'consurf', \"B' side chain\", 'secondary structure', 'asa']\n",
    "\n",
    "df_train = df_train[feature_list]\n",
    "df_test = df_test[feature_list]"
   ]
  },
  {
   "cell_type": "code",
   "execution_count": 8,
   "id": "a9a4c7e1",
   "metadata": {},
   "outputs": [],
   "source": [
    "df_train['residue'] = df_train['residue'].astype('category')\n",
    "df_test['residue'] = df_test['residue'].astype('category')\n",
    "\n",
    "df_train['secondary structure'] = df_train['secondary structure'].astype('category')\n",
    "df_test['secondary structure'] = df_test['secondary structure'].astype('category')"
   ]
  },
  {
   "cell_type": "code",
   "execution_count": 9,
   "id": "bf91020a",
   "metadata": {},
   "outputs": [
    {
     "data": {
      "text/plain": [
       "avg bond number         float64\n",
       "Hbond                     int64\n",
       "residue                category\n",
       "Hphob                     int64\n",
       "consurf                   int64\n",
       "B' side chain           float64\n",
       "secondary structure    category\n",
       "asa                     float64\n",
       "dtype: object"
      ]
     },
     "execution_count": 9,
     "metadata": {},
     "output_type": "execute_result"
    }
   ],
   "source": [
    "df_train.dtypes"
   ]
  },
  {
   "cell_type": "code",
   "execution_count": 10,
   "id": "ab3783b3",
   "metadata": {},
   "outputs": [],
   "source": [
    "X_train = df_train[feature_list].values\n",
    "X_test =  df_test[feature_list].values"
   ]
  },
  {
   "cell_type": "code",
   "execution_count": 11,
   "id": "25a682f8",
   "metadata": {},
   "outputs": [
    {
     "data": {
      "text/plain": [
       "(732, 8)"
      ]
     },
     "execution_count": 11,
     "metadata": {},
     "output_type": "execute_result"
    }
   ],
   "source": [
    "X_train.shape"
   ]
  },
  {
   "cell_type": "code",
   "execution_count": 12,
   "id": "638d13cb",
   "metadata": {},
   "outputs": [
    {
     "data": {
      "text/plain": [
       "(732,)"
      ]
     },
     "execution_count": 12,
     "metadata": {},
     "output_type": "execute_result"
    }
   ],
   "source": [
    "y_train.shape"
   ]
  },
  {
   "cell_type": "code",
   "execution_count": 13,
   "id": "b9f61e08",
   "metadata": {},
   "outputs": [
    {
     "data": {
      "text/plain": [
       "(314, 8)"
      ]
     },
     "execution_count": 13,
     "metadata": {},
     "output_type": "execute_result"
    }
   ],
   "source": [
    "X_test.shape"
   ]
  },
  {
   "cell_type": "code",
   "execution_count": 14,
   "id": "b0a3b2b4",
   "metadata": {},
   "outputs": [
    {
     "data": {
      "text/plain": [
       "(314,)"
      ]
     },
     "execution_count": 14,
     "metadata": {},
     "output_type": "execute_result"
    }
   ],
   "source": [
    "y_test.shape"
   ]
  },
  {
   "cell_type": "code",
   "execution_count": 15,
   "id": "d4e5b54a",
   "metadata": {},
   "outputs": [
    {
     "data": {
      "text/plain": [
       "array([[13.,  3.],\n",
       "       [ 1.,  1.],\n",
       "       [14.,  3.],\n",
       "       ...,\n",
       "       [19.,  2.],\n",
       "       [14.,  2.],\n",
       "       [ 1.,  3.]])"
      ]
     },
     "execution_count": 15,
     "metadata": {},
     "output_type": "execute_result"
    }
   ],
   "source": [
    "X_train[:, [2, 6]]"
   ]
  },
  {
   "cell_type": "markdown",
   "id": "17f7dac1",
   "metadata": {},
   "source": [
    "## OneHot Encoding"
   ]
  },
  {
   "cell_type": "code",
   "execution_count": 16,
   "id": "de7ae7e8",
   "metadata": {},
   "outputs": [
    {
     "data": {
      "text/html": [
       "<style>#sk-container-id-1 {color: black;background-color: white;}#sk-container-id-1 pre{padding: 0;}#sk-container-id-1 div.sk-toggleable {background-color: white;}#sk-container-id-1 label.sk-toggleable__label {cursor: pointer;display: block;width: 100%;margin-bottom: 0;padding: 0.3em;box-sizing: border-box;text-align: center;}#sk-container-id-1 label.sk-toggleable__label-arrow:before {content: \"▸\";float: left;margin-right: 0.25em;color: #696969;}#sk-container-id-1 label.sk-toggleable__label-arrow:hover:before {color: black;}#sk-container-id-1 div.sk-estimator:hover label.sk-toggleable__label-arrow:before {color: black;}#sk-container-id-1 div.sk-toggleable__content {max-height: 0;max-width: 0;overflow: hidden;text-align: left;background-color: #f0f8ff;}#sk-container-id-1 div.sk-toggleable__content pre {margin: 0.2em;color: black;border-radius: 0.25em;background-color: #f0f8ff;}#sk-container-id-1 input.sk-toggleable__control:checked~div.sk-toggleable__content {max-height: 200px;max-width: 100%;overflow: auto;}#sk-container-id-1 input.sk-toggleable__control:checked~label.sk-toggleable__label-arrow:before {content: \"▾\";}#sk-container-id-1 div.sk-estimator input.sk-toggleable__control:checked~label.sk-toggleable__label {background-color: #d4ebff;}#sk-container-id-1 div.sk-label input.sk-toggleable__control:checked~label.sk-toggleable__label {background-color: #d4ebff;}#sk-container-id-1 input.sk-hidden--visually {border: 0;clip: rect(1px 1px 1px 1px);clip: rect(1px, 1px, 1px, 1px);height: 1px;margin: -1px;overflow: hidden;padding: 0;position: absolute;width: 1px;}#sk-container-id-1 div.sk-estimator {font-family: monospace;background-color: #f0f8ff;border: 1px dotted black;border-radius: 0.25em;box-sizing: border-box;margin-bottom: 0.5em;}#sk-container-id-1 div.sk-estimator:hover {background-color: #d4ebff;}#sk-container-id-1 div.sk-parallel-item::after {content: \"\";width: 100%;border-bottom: 1px solid gray;flex-grow: 1;}#sk-container-id-1 div.sk-label:hover label.sk-toggleable__label {background-color: #d4ebff;}#sk-container-id-1 div.sk-serial::before {content: \"\";position: absolute;border-left: 1px solid gray;box-sizing: border-box;top: 0;bottom: 0;left: 50%;z-index: 0;}#sk-container-id-1 div.sk-serial {display: flex;flex-direction: column;align-items: center;background-color: white;padding-right: 0.2em;padding-left: 0.2em;position: relative;}#sk-container-id-1 div.sk-item {position: relative;z-index: 1;}#sk-container-id-1 div.sk-parallel {display: flex;align-items: stretch;justify-content: center;background-color: white;position: relative;}#sk-container-id-1 div.sk-item::before, #sk-container-id-1 div.sk-parallel-item::before {content: \"\";position: absolute;border-left: 1px solid gray;box-sizing: border-box;top: 0;bottom: 0;left: 50%;z-index: -1;}#sk-container-id-1 div.sk-parallel-item {display: flex;flex-direction: column;z-index: 1;position: relative;background-color: white;}#sk-container-id-1 div.sk-parallel-item:first-child::after {align-self: flex-end;width: 50%;}#sk-container-id-1 div.sk-parallel-item:last-child::after {align-self: flex-start;width: 50%;}#sk-container-id-1 div.sk-parallel-item:only-child::after {width: 0;}#sk-container-id-1 div.sk-dashed-wrapped {border: 1px dashed gray;margin: 0 0.4em 0.5em 0.4em;box-sizing: border-box;padding-bottom: 0.4em;background-color: white;}#sk-container-id-1 div.sk-label label {font-family: monospace;font-weight: bold;display: inline-block;line-height: 1.2em;}#sk-container-id-1 div.sk-label-container {text-align: center;}#sk-container-id-1 div.sk-container {/* jupyter's `normalize.less` sets `[hidden] { display: none; }` but bootstrap.min.css set `[hidden] { display: none !important; }` so we also need the `!important` here to be able to override the default hidden behavior on the sphinx rendered scikit-learn.org. See: https://github.com/scikit-learn/scikit-learn/issues/21755 */display: inline-block !important;position: relative;}#sk-container-id-1 div.sk-text-repr-fallback {display: none;}</style><div id=\"sk-container-id-1\" class=\"sk-top-container\"><div class=\"sk-text-repr-fallback\"><pre>OneHotEncoder(drop=&#x27;first&#x27;)</pre><b>In a Jupyter environment, please rerun this cell to show the HTML representation or trust the notebook. <br />On GitHub, the HTML representation is unable to render, please try loading this page with nbviewer.org.</b></div><div class=\"sk-container\" hidden><div class=\"sk-item\"><div class=\"sk-estimator sk-toggleable\"><input class=\"sk-toggleable__control sk-hidden--visually\" id=\"sk-estimator-id-1\" type=\"checkbox\" checked><label for=\"sk-estimator-id-1\" class=\"sk-toggleable__label sk-toggleable__label-arrow\">OneHotEncoder</label><div class=\"sk-toggleable__content\"><pre>OneHotEncoder(drop=&#x27;first&#x27;)</pre></div></div></div></div></div>"
      ],
      "text/plain": [
       "OneHotEncoder(drop='first')"
      ]
     },
     "execution_count": 16,
     "metadata": {},
     "output_type": "execute_result"
    }
   ],
   "source": [
    "from sklearn.preprocessing import OneHotEncoder\n",
    "\n",
    "ohe = OneHotEncoder(drop='first')\n",
    "ohe.fit(df_train[feature_list][['residue', 'secondary structure']])"
   ]
  },
  {
   "cell_type": "code",
   "execution_count": 17,
   "id": "c3d00c32",
   "metadata": {},
   "outputs": [],
   "source": [
    "df_train_ohe = df_train.drop(columns=['residue', 'secondary structure'])\n",
    "df_test_ohe = df_test.drop(columns=['residue', 'secondary structure'])"
   ]
  },
  {
   "cell_type": "code",
   "execution_count": 18,
   "id": "883d56ce",
   "metadata": {},
   "outputs": [],
   "source": [
    "ohe_train = np.asarray(ohe.transform(df_train[feature_list][['residue', 'secondary structure']]).todense())\n",
    "ohe_test = np.asarray(ohe.transform(df_test[feature_list][['residue', 'secondary structure']]).todense())"
   ]
  },
  {
   "cell_type": "code",
   "execution_count": 19,
   "id": "5fd88e2a",
   "metadata": {},
   "outputs": [],
   "source": [
    "X_train_ohe = np.hstack((df_train_ohe.values, ohe_train))\n",
    "X_test_ohe = np.hstack((df_test_ohe.values, ohe_test))"
   ]
  },
  {
   "cell_type": "markdown",
   "id": "cabf97e6",
   "metadata": {},
   "source": [
    "## Multilayer Perceptron"
   ]
  },
  {
   "cell_type": "code",
   "execution_count": 20,
   "id": "02f20e4e",
   "metadata": {},
   "outputs": [
    {
     "name": "stdout",
     "output_type": "stream",
     "text": [
      "10-fold CV precision: 0.60 +/- 0.06\n",
      "10-fold CV recall: 0.60 +/- 0.08\n",
      "10-fold CV f1: 0.59 +/- 0.07\n",
      "Test precision: 0.65\n",
      "Test recall: 0.68\n",
      "Test f1: 0.67\n"
     ]
    }
   ],
   "source": [
    "import sklearn\n",
    "from sklearn.model_selection import cross_val_score\n",
    "from joblib import load\n",
    "\n",
    "\n",
    "ohe, pipe = load('../../hotspotter/mlp-allfeatures.joblib') \n",
    "\n",
    "\n",
    "score_names = ['precision', 'recall', 'f1']\n",
    "\n",
    "\n",
    "for score_name in score_names:\n",
    "\n",
    "    scores = cross_val_score(\n",
    "        X=X_train_ohe,\n",
    "        y=y_train,\n",
    "        estimator=pipe,\n",
    "        cv=10,\n",
    "        n_jobs=-1,\n",
    "        scoring=score_name\n",
    "    )\n",
    "    print(f'10-fold CV {score_name}: {np.mean(scores):.2f} +/- {np.std(scores):.2f}')\n",
    "\n",
    "    \n",
    "for score_name in score_names:\n",
    "    \n",
    "    scorer = sklearn.metrics.get_scorer(score_name)\n",
    "    \n",
    "    score = scorer(pipe, X_test_ohe, y_test)\n",
    "    print(f'Test {score_name}: {score:.2f}')"
   ]
  },
  {
   "cell_type": "markdown",
   "id": "2fccf004",
   "metadata": {},
   "source": [
    "## Permutation-based Feature Importance"
   ]
  },
  {
   "cell_type": "code",
   "execution_count": null,
   "id": "cc593b93",
   "metadata": {},
   "outputs": [],
   "source": []
  },
  {
   "cell_type": "code",
   "execution_count": 21,
   "id": "9d3ed616",
   "metadata": {},
   "outputs": [
    {
     "data": {
      "text/plain": [
       "array(['residue_2', 'residue_3', 'residue_4', 'residue_5', 'residue_6',\n",
       "       'residue_7', 'residue_8', 'residue_9', 'residue_10', 'residue_11',\n",
       "       'residue_12', 'residue_13', 'residue_14', 'residue_15',\n",
       "       'residue_16', 'residue_17', 'residue_18', 'residue_19',\n",
       "       'secondary structure_1', 'secondary structure_2',\n",
       "       'secondary structure_3'], dtype=object)"
      ]
     },
     "execution_count": 21,
     "metadata": {},
     "output_type": "execute_result"
    }
   ],
   "source": [
    "feat_names_no_ohe = ['avg bond number', 'Hbond', \n",
    "                     'Hphob', 'consurf', \"B' side chain\", 'asa']\n",
    "\n",
    "feat_names_with_ohe = feat_names_no_ohe + ['residue', 'secondary structure']\n",
    "\n",
    "ohe_names = ohe.get_feature_names_out(['residue', 'secondary structure'])\n",
    "ohe_names"
   ]
  },
  {
   "cell_type": "code",
   "execution_count": 22,
   "id": "f04a3c35",
   "metadata": {},
   "outputs": [
    {
     "data": {
      "text/plain": [
       "6"
      ]
     },
     "execution_count": 22,
     "metadata": {},
     "output_type": "execute_result"
    }
   ],
   "source": [
    "len(feat_names_no_ohe)"
   ]
  },
  {
   "cell_type": "code",
   "execution_count": 23,
   "id": "f5df932c",
   "metadata": {},
   "outputs": [
    {
     "data": {
      "text/plain": [
       "21"
      ]
     },
     "execution_count": 23,
     "metadata": {},
     "output_type": "execute_result"
    }
   ],
   "source": [
    "len(ohe_names)"
   ]
  },
  {
   "cell_type": "code",
   "execution_count": 24,
   "id": "5ab5fbb2",
   "metadata": {},
   "outputs": [
    {
     "data": {
      "text/plain": [
       "8"
      ]
     },
     "execution_count": 24,
     "metadata": {},
     "output_type": "execute_result"
    }
   ],
   "source": [
    "feature_groups = [0, 1, 2, 3, 4, 5, [list(range(6, 19))], [19, 20, 21]]\n",
    "len(feature_groups)"
   ]
  },
  {
   "cell_type": "code",
   "execution_count": 31,
   "id": "1dccf1f8",
   "metadata": {},
   "outputs": [],
   "source": [
    "from mlxtend.evaluate import feature_importance_permutation\n",
    "from sklearn.metrics import f1_score\n",
    "\n",
    "\n",
    "rng = np.random.RandomState(123)\n",
    "num_rounds = 5\n",
    "X = X_test_ohe\n",
    "y = y_test\n",
    "\n",
    "imp_vals, imp_all = feature_importance_permutation(\n",
    "    predict_method=pipe.predict, \n",
    "    X=X_test_ohe,\n",
    "    y=y_test,\n",
    "    metric=f1_score,\n",
    "    num_rounds=5,\n",
    "    feature_groups=feature_groups,\n",
    "    seed=123)"
   ]
  },
  {
   "cell_type": "code",
   "execution_count": 32,
   "id": "d7867be9",
   "metadata": {},
   "outputs": [],
   "source": [
    "%matplotlib inline\n",
    "import matplotlib.pyplot as plt"
   ]
  },
  {
   "cell_type": "code",
   "execution_count": 33,
   "id": "4fa1e48d",
   "metadata": {},
   "outputs": [
    {
     "data": {
      "image/png": "[encoded data removed]",
      "text/plain": [
       "<Figure size 640x480 with 1 Axes>"
      ]
     },
     "metadata": {},
     "output_type": "display_data"
    }
   ],
   "source": [
    "std = np.std(imp_all, axis=1)\n",
    "indices = np.argsort(imp_vals)[::-1]\n",
    "\n",
    "plt.figure()\n",
    "#plt.title(\"Feature importance via permutation importance w. std. dev.\")\n",
    "plt.bar(range(len(feat_names_with_ohe)), imp_vals[indices],\n",
    "        yerr=std[indices])\n",
    "plt.xticks(range(len(feat_names_with_ohe)),\n",
    "           np.array(feat_names_with_ohe)[indices], rotation=90)\n",
    "plt.xlim([-1, len(feat_names_with_ohe)])\n",
    "\n",
    "plt.ylabel(\"Feature importance\")\n",
    "plt.xlabel(\"Feature name\")\n",
    "\n",
    "plt.tight_layout()\n",
    "plt.savefig('feature-importance.pdf')\n",
    "plt.show()"
   ]
  },
  {
   "cell_type": "code",
   "execution_count": null,
   "id": "ec7966c4",
   "metadata": {},
   "outputs": [],
   "source": []
  }
 ],
 "metadata": {
  "kernelspec": {
   "display_name": "Python 3 (ipykernel)",
   "language": "python",
   "name": "python3"
  },
  "language_info": {
   "codemirror_mode": {
    "name": "ipython",
    "version": 3
   },
   "file_extension": ".py",
   "mimetype": "text/x-python",
   "name": "python",
   "nbconvert_exporter": "python",
   "pygments_lexer": "ipython3",
   "version": "3.9.13"
  }
 },
 "nbformat": 4,
 "nbformat_minor": 5
}
